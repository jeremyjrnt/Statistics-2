{
  "nbformat": 4,
  "nbformat_minor": 0,
  "metadata": {
    "colab": {
      "provenance": []
    },
    "kernelspec": {
      "name": "python3",
      "display_name": "Python 3"
    },
    "language_info": {
      "name": "python"
    }
  },
  "cells": [
    {
      "cell_type": "markdown",
      "source": [
        "# Statistics 2 - Project - Assignment #3\n",
        "\n",
        "#### Jeremy (931215248) and Uri (300691367)\n",
        "---\n"
      ],
      "metadata": {
        "id": "P3hMDvpx_TvY"
      }
    },
    {
      "cell_type": "code",
      "execution_count": 1,
      "metadata": {
        "id": "X0KnD2LsZkNO"
      },
      "outputs": [],
      "source": [
        "import numpy as np\n",
        "import pandas as pd\n",
        "import matplotlib.pyplot as plt\n",
        "import seaborn as sns\n",
        "from datetime import datetime\n",
        "\n",
        "plt.style.use('ggplot')"
      ]
    },
    {
      "cell_type": "markdown",
      "source": [
        "## Load Data\n",
        "\n",
        "load the data from a file and create the df used in previous project exercises.\n",
        "\n",
        "Recall that the data comprises recorded observations of booking information of a hotel.\n",
        "\n",
        "The resulted df will contain 20k rows. This will be considered as the **\"entire population\"** from which we sample."
      ],
      "metadata": {
        "id": "Dp8dYgSBJn3E"
      }
    },
    {
      "cell_type": "code",
      "source": [
        "# load data\n",
        "# file downloaded from\n",
        "# https://www.kaggle.com/datasets/khairullahhamsafar/hotels-booking-data-cleaned-version\n",
        "# and dropped as is in the notebook\n",
        "\n",
        "df = pd.read_csv(\"hotel_booking_data_cleaned.csv\")\n",
        "\n",
        "\n",
        "# Data preprocessing\n",
        "\n",
        "# 1. sum of all guests in reservation\n",
        "df['total_guests'] = df['adults'] + df['children'] + df['babies']\n",
        "\n",
        "# 2. sum of all nights in reservation\n",
        "df['number_of_nights'] = df['stays_in_week_nights'] + df['stays_in_weekend_nights']\n",
        "\n",
        "# 3. binary indicator whether a weekend night included in reservation\n",
        "df['weekend_included'] = df['stays_in_weekend_nights'].map(lambda x: 1 if x > 0 else 0)\n",
        "\n",
        "# 4. First, concatenate the relevant columns and convert the type to obtain a datetime value.\n",
        "df['arrival_date'] = df['arrival_date_month'].astype(str) + ' ' + df['arrival_date_day_of_month'].astype(str) + ', ' + df['arrival_date_year'].astype(str)\n",
        "df['arrival_date'] = df['arrival_date'].apply(lambda x: datetime.strptime(x, \"%B %d, %Y\"))\n",
        "# Next, identify day_0 and calculate the new column values based on it.\n",
        "day_0 = df['arrival_date'].sort_values().values[0]\n",
        "df['arrival_day'] = df['arrival_date'].map(lambda x: (x - day_0) / np.timedelta64(1, 'D'))\n",
        "\n",
        "# 5. extract day of the week from the date of arrival\n",
        "df['arrival_day_of_week'] = df['arrival_date'].map(lambda x: x.strftime('%a'))\n",
        "\n",
        "# remove rows with 'total_guests' = 0 or 'number_of_nights' = 0 or 'adr' = 0\n",
        "df = df.loc[(df['total_guests'] > 0) & (df['number_of_nights'] > 0) & (df['adr'] > 0)]\n",
        "\n",
        "# remove extreme outlier (removing 1 row)\n",
        "df = df.loc[df['adr'] < 5000] #.reset_index(drop=True)\n",
        "\n",
        "# 6. create another new column\n",
        "df['adr_per_guest'] = df['adr'] / df['total_guests']\n",
        "\n",
        "\n",
        "# narrowing down data\n",
        "\n",
        "# select only records from top 1 country, and top 1 hotel\n",
        "df = df.loc[(df['hotel'] == 'City Hotel') & (df['country'] == 'PRT')]\n",
        "\n",
        "# selecting features\n",
        "selected_columns = [\n",
        "    'is_canceled', 'lead_time', 'arrival_date_year',\n",
        "    'arrival_date_month', 'arrival_day_of_week', 'arrival_day',\n",
        "    'number_of_nights', 'weekend_included', 'is_repeated_guest',\n",
        "    'deposit_type', 'adr', 'total_guests', 'adr_per_guest'\n",
        "    ]\n",
        "df = df[selected_columns].copy()\n",
        "\n",
        "\n",
        "# sample 20000 random data points\n",
        "n = 20000\n",
        "df = df.sample(n, random_state=27).reset_index(drop=True)"
      ],
      "metadata": {
        "id": "yDFMcwR1kM7o"
      },
      "execution_count": 2,
      "outputs": []
    },
    {
      "cell_type": "code",
      "source": [
        "df.info()"
      ],
      "metadata": {
        "colab": {
          "base_uri": "https://localhost:8080/"
        },
        "id": "jipFGSzoM3QS",
        "outputId": "063a6bed-9c8a-48b0-f897-c6e8fd279005"
      },
      "execution_count": 3,
      "outputs": [
        {
          "output_type": "stream",
          "name": "stdout",
          "text": [
            "<class 'pandas.core.frame.DataFrame'>\n",
            "RangeIndex: 20000 entries, 0 to 19999\n",
            "Data columns (total 13 columns):\n",
            " #   Column               Non-Null Count  Dtype  \n",
            "---  ------               --------------  -----  \n",
            " 0   is_canceled          20000 non-null  int64  \n",
            " 1   lead_time            20000 non-null  int64  \n",
            " 2   arrival_date_year    20000 non-null  int64  \n",
            " 3   arrival_date_month   20000 non-null  object \n",
            " 4   arrival_day_of_week  20000 non-null  object \n",
            " 5   arrival_day          20000 non-null  float64\n",
            " 6   number_of_nights     20000 non-null  int64  \n",
            " 7   weekend_included     20000 non-null  int64  \n",
            " 8   is_repeated_guest    20000 non-null  int64  \n",
            " 9   deposit_type         20000 non-null  object \n",
            " 10  adr                  20000 non-null  float64\n",
            " 11  total_guests         20000 non-null  float64\n",
            " 12  adr_per_guest        20000 non-null  float64\n",
            "dtypes: float64(4), int64(6), object(3)\n",
            "memory usage: 2.0+ MB\n"
          ]
        }
      ]
    },
    {
      "cell_type": "markdown",
      "source": [
        "## Part 1 - Linear Regression"
      ],
      "metadata": {
        "id": "NKNPNdLSLBGG"
      }
    },
    {
      "cell_type": "markdown",
      "source": [
        "### 1. Chosen Variables\n",
        "The dependent variable will be **'adr_per_guest'** Average Daily Rate per guest, i.e., the average rental income per paid occupied room divided by number of guests in the reservation. This is a continuous variable.\n",
        "\n",
        "The explanatory variables will be:\n",
        "1. **'total_guests'** - number of guest in reservation. a descrete variable that ranges from 1 to 5 (in the \"entire population\").\n",
        "2. **'number_of_nights'** - The total number of nights booked in a reservation. A discrete variable.\n",
        "3. **'weekend_included'** - a binary variable which indicates if the reservation includes a weekend night (Sat or Sun)\n",
        "4. **'lead_time'** - number of days between booking date and arrival date. An ordinal variable that ranges from 0 to 629 (in the \"entire population\"), represented by integer values.\n",
        "\n",
        "### Research Question\n",
        "How do the explanatory variables impact the dependent variable?"
      ],
      "metadata": {
        "id": "WRGClsO29Khb"
      }
    },
    {
      "cell_type": "markdown",
      "source": [
        "### 2. Sample 200 observation"
      ],
      "metadata": {
        "id": "qSRabB3PCYFo"
      }
    },
    {
      "cell_type": "code",
      "source": [
        "vars = ['total_guests', 'number_of_nights', 'weekend_included', 'lead_time', 'adr_per_guest']\n",
        "k = 200\n",
        "sample_df = df[vars].sample(k, random_state=27).reset_index(drop=True)"
      ],
      "metadata": {
        "id": "uPR0xpReK_H0"
      },
      "execution_count": 4,
      "outputs": []
    },
    {
      "cell_type": "markdown",
      "source": [
        "### 3. Exploratory Data Analysis"
      ],
      "metadata": {
        "id": "WCwC4SlR9JL6"
      }
    },
    {
      "cell_type": "markdown",
      "source": [
        "Meaningful statistical values"
      ],
      "metadata": {
        "id": "tcQTrlIHEfom"
      }
    },
    {
      "cell_type": "code",
      "source": [
        "sample_df.describe()"
      ],
      "metadata": {
        "colab": {
          "base_uri": "https://localhost:8080/",
          "height": 297
        },
        "id": "yCGxz-j-Dmsd",
        "outputId": "3f19f565-d69e-4346-cbc3-78d2b815d97d"
      },
      "execution_count": 5,
      "outputs": [
        {
          "output_type": "execute_result",
          "data": {
            "text/plain": [
              "       total_guests  number_of_nights  weekend_included   lead_time  \\\n",
              "count    200.000000        200.000000        200.000000  200.000000   \n",
              "mean       1.780000          2.405000          0.400000  140.875000   \n",
              "std        0.531992          1.264504          0.491127  148.905283   \n",
              "min        1.000000          1.000000          0.000000    0.000000   \n",
              "25%        1.000000          2.000000          0.000000   20.000000   \n",
              "50%        2.000000          2.000000          0.000000   87.000000   \n",
              "75%        2.000000          3.000000          1.000000  213.000000   \n",
              "max        4.000000          9.000000          1.000000  626.000000   \n",
              "\n",
              "       adr_per_guest  \n",
              "count     200.000000  \n",
              "mean       57.189329  \n",
              "std        26.659159  \n",
              "min        18.000000  \n",
              "25%        34.750000  \n",
              "50%        49.150000  \n",
              "75%        71.743750  \n",
              "max       146.600000  "
            ],
            "text/html": [
              "\n",
              "  <div id=\"df-99949eee-3bad-48ca-a0de-dbb918905bfe\" class=\"colab-df-container\">\n",
              "    <div>\n",
              "<style scoped>\n",
              "    .dataframe tbody tr th:only-of-type {\n",
              "        vertical-align: middle;\n",
              "    }\n",
              "\n",
              "    .dataframe tbody tr th {\n",
              "        vertical-align: top;\n",
              "    }\n",
              "\n",
              "    .dataframe thead th {\n",
              "        text-align: right;\n",
              "    }\n",
              "</style>\n",
              "<table border=\"1\" class=\"dataframe\">\n",
              "  <thead>\n",
              "    <tr style=\"text-align: right;\">\n",
              "      <th></th>\n",
              "      <th>total_guests</th>\n",
              "      <th>number_of_nights</th>\n",
              "      <th>weekend_included</th>\n",
              "      <th>lead_time</th>\n",
              "      <th>adr_per_guest</th>\n",
              "    </tr>\n",
              "  </thead>\n",
              "  <tbody>\n",
              "    <tr>\n",
              "      <th>count</th>\n",
              "      <td>200.000000</td>\n",
              "      <td>200.000000</td>\n",
              "      <td>200.000000</td>\n",
              "      <td>200.000000</td>\n",
              "      <td>200.000000</td>\n",
              "    </tr>\n",
              "    <tr>\n",
              "      <th>mean</th>\n",
              "      <td>1.780000</td>\n",
              "      <td>2.405000</td>\n",
              "      <td>0.400000</td>\n",
              "      <td>140.875000</td>\n",
              "      <td>57.189329</td>\n",
              "    </tr>\n",
              "    <tr>\n",
              "      <th>std</th>\n",
              "      <td>0.531992</td>\n",
              "      <td>1.264504</td>\n",
              "      <td>0.491127</td>\n",
              "      <td>148.905283</td>\n",
              "      <td>26.659159</td>\n",
              "    </tr>\n",
              "    <tr>\n",
              "      <th>min</th>\n",
              "      <td>1.000000</td>\n",
              "      <td>1.000000</td>\n",
              "      <td>0.000000</td>\n",
              "      <td>0.000000</td>\n",
              "      <td>18.000000</td>\n",
              "    </tr>\n",
              "    <tr>\n",
              "      <th>25%</th>\n",
              "      <td>1.000000</td>\n",
              "      <td>2.000000</td>\n",
              "      <td>0.000000</td>\n",
              "      <td>20.000000</td>\n",
              "      <td>34.750000</td>\n",
              "    </tr>\n",
              "    <tr>\n",
              "      <th>50%</th>\n",
              "      <td>2.000000</td>\n",
              "      <td>2.000000</td>\n",
              "      <td>0.000000</td>\n",
              "      <td>87.000000</td>\n",
              "      <td>49.150000</td>\n",
              "    </tr>\n",
              "    <tr>\n",
              "      <th>75%</th>\n",
              "      <td>2.000000</td>\n",
              "      <td>3.000000</td>\n",
              "      <td>1.000000</td>\n",
              "      <td>213.000000</td>\n",
              "      <td>71.743750</td>\n",
              "    </tr>\n",
              "    <tr>\n",
              "      <th>max</th>\n",
              "      <td>4.000000</td>\n",
              "      <td>9.000000</td>\n",
              "      <td>1.000000</td>\n",
              "      <td>626.000000</td>\n",
              "      <td>146.600000</td>\n",
              "    </tr>\n",
              "  </tbody>\n",
              "</table>\n",
              "</div>\n",
              "    <div class=\"colab-df-buttons\">\n",
              "\n",
              "  <div class=\"colab-df-container\">\n",
              "    <button class=\"colab-df-convert\" onclick=\"convertToInteractive('df-99949eee-3bad-48ca-a0de-dbb918905bfe')\"\n",
              "            title=\"Convert this dataframe to an interactive table.\"\n",
              "            style=\"display:none;\">\n",
              "\n",
              "  <svg xmlns=\"http://www.w3.org/2000/svg\" height=\"24px\" viewBox=\"0 -960 960 960\">\n",
              "    <path d=\"M120-120v-720h720v720H120Zm60-500h600v-160H180v160Zm220 220h160v-160H400v160Zm0 220h160v-160H400v160ZM180-400h160v-160H180v160Zm440 0h160v-160H620v160ZM180-180h160v-160H180v160Zm440 0h160v-160H620v160Z\"/>\n",
              "  </svg>\n",
              "    </button>\n",
              "\n",
              "  <style>\n",
              "    .colab-df-container {\n",
              "      display:flex;\n",
              "      gap: 12px;\n",
              "    }\n",
              "\n",
              "    .colab-df-convert {\n",
              "      background-color: #E8F0FE;\n",
              "      border: none;\n",
              "      border-radius: 50%;\n",
              "      cursor: pointer;\n",
              "      display: none;\n",
              "      fill: #1967D2;\n",
              "      height: 32px;\n",
              "      padding: 0 0 0 0;\n",
              "      width: 32px;\n",
              "    }\n",
              "\n",
              "    .colab-df-convert:hover {\n",
              "      background-color: #E2EBFA;\n",
              "      box-shadow: 0px 1px 2px rgba(60, 64, 67, 0.3), 0px 1px 3px 1px rgba(60, 64, 67, 0.15);\n",
              "      fill: #174EA6;\n",
              "    }\n",
              "\n",
              "    .colab-df-buttons div {\n",
              "      margin-bottom: 4px;\n",
              "    }\n",
              "\n",
              "    [theme=dark] .colab-df-convert {\n",
              "      background-color: #3B4455;\n",
              "      fill: #D2E3FC;\n",
              "    }\n",
              "\n",
              "    [theme=dark] .colab-df-convert:hover {\n",
              "      background-color: #434B5C;\n",
              "      box-shadow: 0px 1px 3px 1px rgba(0, 0, 0, 0.15);\n",
              "      filter: drop-shadow(0px 1px 2px rgba(0, 0, 0, 0.3));\n",
              "      fill: #FFFFFF;\n",
              "    }\n",
              "  </style>\n",
              "\n",
              "    <script>\n",
              "      const buttonEl =\n",
              "        document.querySelector('#df-99949eee-3bad-48ca-a0de-dbb918905bfe button.colab-df-convert');\n",
              "      buttonEl.style.display =\n",
              "        google.colab.kernel.accessAllowed ? 'block' : 'none';\n",
              "\n",
              "      async function convertToInteractive(key) {\n",
              "        const element = document.querySelector('#df-99949eee-3bad-48ca-a0de-dbb918905bfe');\n",
              "        const dataTable =\n",
              "          await google.colab.kernel.invokeFunction('convertToInteractive',\n",
              "                                                    [key], {});\n",
              "        if (!dataTable) return;\n",
              "\n",
              "        const docLinkHtml = 'Like what you see? Visit the ' +\n",
              "          '<a target=\"_blank\" href=https://colab.research.google.com/notebooks/data_table.ipynb>data table notebook</a>'\n",
              "          + ' to learn more about interactive tables.';\n",
              "        element.innerHTML = '';\n",
              "        dataTable['output_type'] = 'display_data';\n",
              "        await google.colab.output.renderOutput(dataTable, element);\n",
              "        const docLink = document.createElement('div');\n",
              "        docLink.innerHTML = docLinkHtml;\n",
              "        element.appendChild(docLink);\n",
              "      }\n",
              "    </script>\n",
              "  </div>\n",
              "\n",
              "\n",
              "<div id=\"df-eb5982bd-2fd0-417f-bc65-2db713a2b7c0\">\n",
              "  <button class=\"colab-df-quickchart\" onclick=\"quickchart('df-eb5982bd-2fd0-417f-bc65-2db713a2b7c0')\"\n",
              "            title=\"Suggest charts\"\n",
              "            style=\"display:none;\">\n",
              "\n",
              "<svg xmlns=\"http://www.w3.org/2000/svg\" height=\"24px\"viewBox=\"0 0 24 24\"\n",
              "     width=\"24px\">\n",
              "    <g>\n",
              "        <path d=\"M19 3H5c-1.1 0-2 .9-2 2v14c0 1.1.9 2 2 2h14c1.1 0 2-.9 2-2V5c0-1.1-.9-2-2-2zM9 17H7v-7h2v7zm4 0h-2V7h2v10zm4 0h-2v-4h2v4z\"/>\n",
              "    </g>\n",
              "</svg>\n",
              "  </button>\n",
              "\n",
              "<style>\n",
              "  .colab-df-quickchart {\n",
              "      --bg-color: #E8F0FE;\n",
              "      --fill-color: #1967D2;\n",
              "      --hover-bg-color: #E2EBFA;\n",
              "      --hover-fill-color: #174EA6;\n",
              "      --disabled-fill-color: #AAA;\n",
              "      --disabled-bg-color: #DDD;\n",
              "  }\n",
              "\n",
              "  [theme=dark] .colab-df-quickchart {\n",
              "      --bg-color: #3B4455;\n",
              "      --fill-color: #D2E3FC;\n",
              "      --hover-bg-color: #434B5C;\n",
              "      --hover-fill-color: #FFFFFF;\n",
              "      --disabled-bg-color: #3B4455;\n",
              "      --disabled-fill-color: #666;\n",
              "  }\n",
              "\n",
              "  .colab-df-quickchart {\n",
              "    background-color: var(--bg-color);\n",
              "    border: none;\n",
              "    border-radius: 50%;\n",
              "    cursor: pointer;\n",
              "    display: none;\n",
              "    fill: var(--fill-color);\n",
              "    height: 32px;\n",
              "    padding: 0;\n",
              "    width: 32px;\n",
              "  }\n",
              "\n",
              "  .colab-df-quickchart:hover {\n",
              "    background-color: var(--hover-bg-color);\n",
              "    box-shadow: 0 1px 2px rgba(60, 64, 67, 0.3), 0 1px 3px 1px rgba(60, 64, 67, 0.15);\n",
              "    fill: var(--button-hover-fill-color);\n",
              "  }\n",
              "\n",
              "  .colab-df-quickchart-complete:disabled,\n",
              "  .colab-df-quickchart-complete:disabled:hover {\n",
              "    background-color: var(--disabled-bg-color);\n",
              "    fill: var(--disabled-fill-color);\n",
              "    box-shadow: none;\n",
              "  }\n",
              "\n",
              "  .colab-df-spinner {\n",
              "    border: 2px solid var(--fill-color);\n",
              "    border-color: transparent;\n",
              "    border-bottom-color: var(--fill-color);\n",
              "    animation:\n",
              "      spin 1s steps(1) infinite;\n",
              "  }\n",
              "\n",
              "  @keyframes spin {\n",
              "    0% {\n",
              "      border-color: transparent;\n",
              "      border-bottom-color: var(--fill-color);\n",
              "      border-left-color: var(--fill-color);\n",
              "    }\n",
              "    20% {\n",
              "      border-color: transparent;\n",
              "      border-left-color: var(--fill-color);\n",
              "      border-top-color: var(--fill-color);\n",
              "    }\n",
              "    30% {\n",
              "      border-color: transparent;\n",
              "      border-left-color: var(--fill-color);\n",
              "      border-top-color: var(--fill-color);\n",
              "      border-right-color: var(--fill-color);\n",
              "    }\n",
              "    40% {\n",
              "      border-color: transparent;\n",
              "      border-right-color: var(--fill-color);\n",
              "      border-top-color: var(--fill-color);\n",
              "    }\n",
              "    60% {\n",
              "      border-color: transparent;\n",
              "      border-right-color: var(--fill-color);\n",
              "    }\n",
              "    80% {\n",
              "      border-color: transparent;\n",
              "      border-right-color: var(--fill-color);\n",
              "      border-bottom-color: var(--fill-color);\n",
              "    }\n",
              "    90% {\n",
              "      border-color: transparent;\n",
              "      border-bottom-color: var(--fill-color);\n",
              "    }\n",
              "  }\n",
              "</style>\n",
              "\n",
              "  <script>\n",
              "    async function quickchart(key) {\n",
              "      const quickchartButtonEl =\n",
              "        document.querySelector('#' + key + ' button');\n",
              "      quickchartButtonEl.disabled = true;  // To prevent multiple clicks.\n",
              "      quickchartButtonEl.classList.add('colab-df-spinner');\n",
              "      try {\n",
              "        const charts = await google.colab.kernel.invokeFunction(\n",
              "            'suggestCharts', [key], {});\n",
              "      } catch (error) {\n",
              "        console.error('Error during call to suggestCharts:', error);\n",
              "      }\n",
              "      quickchartButtonEl.classList.remove('colab-df-spinner');\n",
              "      quickchartButtonEl.classList.add('colab-df-quickchart-complete');\n",
              "    }\n",
              "    (() => {\n",
              "      let quickchartButtonEl =\n",
              "        document.querySelector('#df-eb5982bd-2fd0-417f-bc65-2db713a2b7c0 button');\n",
              "      quickchartButtonEl.style.display =\n",
              "        google.colab.kernel.accessAllowed ? 'block' : 'none';\n",
              "    })();\n",
              "  </script>\n",
              "</div>\n",
              "\n",
              "    </div>\n",
              "  </div>\n"
            ],
            "application/vnd.google.colaboratory.intrinsic+json": {
              "type": "dataframe",
              "summary": "{\n  \"name\": \"sample_df\",\n  \"rows\": 8,\n  \"fields\": [\n    {\n      \"column\": \"total_guests\",\n      \"properties\": {\n        \"dtype\": \"number\",\n        \"std\": 70.09677360853833,\n        \"min\": 0.5319916121301955,\n        \"max\": 200.0,\n        \"num_unique_values\": 6,\n        \"samples\": [\n          200.0,\n          1.78,\n          4.0\n        ],\n        \"semantic_type\": \"\",\n        \"description\": \"\"\n      }\n    },\n    {\n      \"column\": \"number_of_nights\",\n      \"properties\": {\n        \"dtype\": \"number\",\n        \"std\": 69.71319229187874,\n        \"min\": 1.0,\n        \"max\": 200.0,\n        \"num_unique_values\": 7,\n        \"samples\": [\n          200.0,\n          2.405,\n          3.0\n        ],\n        \"semantic_type\": \"\",\n        \"description\": \"\"\n      }\n    },\n    {\n      \"column\": \"weekend_included\",\n      \"properties\": {\n        \"dtype\": \"number\",\n        \"std\": 70.56587602438388,\n        \"min\": 0.0,\n        \"max\": 200.0,\n        \"num_unique_values\": 5,\n        \"samples\": [\n          0.4,\n          1.0,\n          0.4911273054420348\n        ],\n        \"semantic_type\": \"\",\n        \"description\": \"\"\n      }\n    },\n    {\n      \"column\": \"lead_time\",\n      \"properties\": {\n        \"dtype\": \"number\",\n        \"std\": 196.23215889848024,\n        \"min\": 0.0,\n        \"max\": 626.0,\n        \"num_unique_values\": 8,\n        \"samples\": [\n          140.875,\n          87.0,\n          200.0\n        ],\n        \"semantic_type\": \"\",\n        \"description\": \"\"\n      }\n    },\n    {\n      \"column\": \"adr_per_guest\",\n      \"properties\": {\n        \"dtype\": \"number\",\n        \"std\": 64.31108744343996,\n        \"min\": 18.0,\n        \"max\": 200.0,\n        \"num_unique_values\": 8,\n        \"samples\": [\n          57.18932916666667,\n          49.15,\n          200.0\n        ],\n        \"semantic_type\": \"\",\n        \"description\": \"\"\n      }\n    }\n  ]\n}"
            }
          },
          "metadata": {},
          "execution_count": 5
        }
      ]
    },
    {
      "cell_type": "markdown",
      "source": [
        "#### Distribution of the variables in the sample"
      ],
      "metadata": {
        "id": "Mix9fXvWFVMI"
      }
    },
    {
      "cell_type": "code",
      "source": [
        "fig, ax = plt.subplots(1, 5, figsize=(12,3))\n",
        "\n",
        "# total guests\n",
        "sns.countplot(ax=ax[0], x=\"total_guests\", data=sample_df, stat='percent')\n",
        "ax[0].set_title('total_guests', fontsize=11)\n",
        "ax[0].set_ylabel('% of observations',fontsize=10)\n",
        "\n",
        "# number of nights\n",
        "sns.countplot(ax=ax[1], x=sample_df['number_of_nights'], stat='percent')\n",
        "ax[1].set_title('number of nights', fontsize=11)\n",
        "ax[1].set_xlabel('')\n",
        "ax[1].set_ylabel(\"% of observations\", fontsize=10)\n",
        "\n",
        "# weekend\n",
        "sns.countplot(ax=ax[2], x=sample_df['weekend_included'], stat='percent')\n",
        "ax[2].set_xticks([0,1])\n",
        "ax[2].set_xticklabels(['no', 'yes'])\n",
        "ax[2].set_title('weekend_included', fontsize=11)\n",
        "ax[2].set_xlabel('')\n",
        "ax[2].set_ylabel(\"% of observations\", fontsize=10)\n",
        "\n",
        "\n",
        "# lead_time\n",
        "sns.histplot(data=sample_df, x=\"lead_time\", bins=15, kde=True, ax=ax[3])\n",
        "ax[3].set_ylabel(\"Counts\", fontsize=10)\n",
        "ax[3].set_title('lead_time', fontsize=11)\n",
        "\n",
        "# adr_per_guest\n",
        "sns.histplot(data=sample_df, x=\"adr_per_guest\", bins=15, kde=True, ax=ax[4])\n",
        "ax[4].set_ylabel(\"Counts\", fontsize=10)\n",
        "ax[4].set_title('adr_per_guest', fontsize=11)\n",
        "\n",
        "fig.suptitle('Distribution of the Variables')\n",
        "plt.tight_layout()\n",
        "plt.show()\n"
      ],
      "metadata": {
        "colab": {
          "base_uri": "https://localhost:8080/",
          "height": 290
        },
        "id": "z-NmeWB_fJzx",
        "outputId": "d7a18b19-ec6b-4839-8eee-0574e55b5912"
      },
      "execution_count": 6,
      "outputs": [
        {
          "output_type": "display_data",
          "data": {
            "text/plain": [
              "<Figure size 1200x300 with 5 Axes>"
            ],
            "image/png": "[encoded data removed]"
          },
          "metadata": {}
        }
      ]
    },
    {
      "cell_type": "markdown",
      "source": [
        "#### Notes:\n",
        "- There are no missing values.\n",
        "- The distribution of 'lead_time' appears to resemble that of an exponential distribution.\n",
        "- 'adr_per_guest' exhibits characteristics similar to a chi-squared distribution.\n",
        "- The distribution of the sample across the 'weekend' variable seems fairly even, but there is less balance in the distribution across the 'total_guests' and 'number_of_nights' variables."
      ],
      "metadata": {
        "id": "FnexttSMNt7y"
      }
    },
    {
      "cell_type": "markdown",
      "source": [
        "#### The relationship between X and Y"
      ],
      "metadata": {
        "id": "vU0I8CyXuizx"
      }
    },
    {
      "cell_type": "code",
      "source": [
        "fig, ax = plt.subplots(1, 4, figsize=(11,3))\n",
        "\n",
        "# total guests\n",
        "sns.boxplot(ax=ax[0], data=sample_df, x='total_guests', y='adr_per_guest', color='#348ABD')\n",
        "ax[0].set_ylabel(\"adr_per_guest\", fontsize=10)\n",
        "\n",
        "\n",
        "# weekend\n",
        "sns.boxplot(ax=ax[2], data=sample_df, x='weekend_included', y='adr_per_guest', color='#348ABD')\n",
        "ax[2].set_xticks([0,1])\n",
        "ax[2].set_xticklabels(['no', 'yes'])\n",
        "ax[2].set_ylabel(\"adr_per_guest\", fontsize=10)\n",
        "\n",
        "\n",
        "# number of nights\n",
        "sns.boxplot(ax=ax[1], data=sample_df, x='number_of_nights', y='adr_per_guest', color='#348ABD')\n",
        "ax[1].set_ylabel(\"adr_per_guest\", fontsize=10)\n",
        "\n",
        "# lead_time\n",
        "sns.regplot(ax=ax[3], data=sample_df, x='lead_time', y='adr_per_guest',\n",
        "            scatter_kws = {\"s\":5}, color='#348ABD',\n",
        "            line_kws = {\"color\": \"#E24A33\", \"linewidth\":1},\n",
        "            ci=95)\n",
        "ax[3].set_ylabel(\"adr_per_guest\", fontsize=10)\n",
        "corr = sample_df[['lead_time', 'adr_per_guest']].corr().iloc[0,1]\n",
        "ax[3].set_xlabel(f\"lead_time\\n\\ncorrelation: {round(corr, 2)}\", fontsize=10)\n",
        "\n",
        "fig.suptitle(\"Relationship between explanatory variables and dependent variable\")\n",
        "plt.tight_layout()\n",
        "plt.show()"
      ],
      "metadata": {
        "colab": {
          "base_uri": "https://localhost:8080/",
          "height": 315
        },
        "id": "p-pSK5kHvO5H",
        "outputId": "e456b9d9-b87c-4791-8882-5d291962310e"
      },
      "execution_count": 7,
      "outputs": [
        {
          "output_type": "display_data",
          "data": {
            "text/plain": [
              "<Figure size 1100x300 with 4 Axes>"
            ],
            "image/png": "[encoded data removed]"
          },
          "metadata": {}
        }
      ]
    },
    {
      "cell_type": "markdown",
      "source": [
        "#### Notes:\n",
        "- It seems that individual guests pay more compared to multiple guests, but also, when the group size exceeds 3, each person pays more. This could indicate a requirement for larger rooms that come with higher costs. Alternatively, this could be due to insufficient sample sizes.\n",
        "- It's somewhat unexpected that guests don't pay higher rates on weekends (on average).\n",
        "- Regarding 'lead_time,' as anticipated, booking earlier is associated with lower costs per guest. The Pearson correlation coefficient is -0.33.\n",
        "- It appears that the group size and booking in advance have the greatest influence on the average rate per guest among the four variables."
      ],
      "metadata": {
        "id": "W5W7ZUMD8UkW"
      }
    },
    {
      "cell_type": "markdown",
      "source": [
        "### 4. Caculating the Coefficient Vector $\\hat{\\beta}$"
      ],
      "metadata": {
        "id": "lWKAZ96YRlt0"
      }
    },
    {
      "cell_type": "markdown",
      "source": [
        "#### Create the model"
      ],
      "metadata": {
        "id": "JO_PfsnT77in"
      }
    },
    {
      "cell_type": "code",
      "source": [
        "X = sample_df.iloc[:, :-1]\n",
        "y = sample_df.iloc[:, -1]\n",
        "\n",
        "# add column of 1's to X at position 0\n",
        "X.insert(0, \"x_0\", [1] * sample_df.shape[0])\n",
        "\n",
        "beta_hat = np.linalg.inv(X.T @ X) @ X.T @ y\n",
        "\n",
        "print(\"The estimator for beta is:\")\n",
        "for i, (beta_i, feature) in enumerate(zip(beta_hat, X.columns)):\n",
        "  print(f\"beta_{i} = {round(beta_i, 3)} ({feature})\")"
      ],
      "metadata": {
        "colab": {
          "base_uri": "https://localhost:8080/"
        },
        "id": "NtjCbZ1_4sbv",
        "outputId": "d28adb96-0856-4319-986c-ac75a0b6b2fe"
      },
      "execution_count": 8,
      "outputs": [
        {
          "output_type": "stream",
          "name": "stdout",
          "text": [
            "The estimator for beta is:\n",
            "beta_0 = 115.825 (x_0)\n",
            "beta_1 = -33.062 (total_guests)\n",
            "beta_2 = 3.454 (number_of_nights)\n",
            "beta_3 = -4.247 (weekend_included)\n",
            "beta_4 = -0.045 (lead_time)\n"
          ]
        }
      ]
    },
    {
      "cell_type": "markdown",
      "source": [
        "#### Notes\n",
        "- Based on the estimated coefficient $\\hat{\\beta}$, we observe that the variable having the most significant impact on the dependent variable is **'total_guest'**: an addition of 1 person to the group decreasing the amount each person pays by 33 units.\n",
        "- **'lead_time'** seems to be the least impactful variable, contrary to our initial hypothesis. A one-day earlier booking only decreases the amount paid per person by 0.045 units.\n",
        "- Similarly, increasing the number of nights by one results in an increase of 3.454 units in the amount paid per person.\n",
        "- As seen earlier, bookings that include weekend nights are 4.247 units cheaper than those that do not include weekends.\n",
        "- $\\hat{\\beta_0}$ represents the amount added to each booking and can be likened to VAT (Value Added Tax).\n"
      ],
      "metadata": {
        "id": "D5F-wa50Mqrw"
      }
    },
    {
      "cell_type": "markdown",
      "source": [
        "### 5. ANOVA table, $R^2$ and $R^2_{adj}$ and F-test"
      ],
      "metadata": {
        "id": "icYzhbkFRWUu"
      }
    },
    {
      "cell_type": "code",
      "source": [
        "y_hat = (X @ beta_hat.values.reshape(-1,1)).values.reshape(-1)\n",
        "\n",
        "SS_Res = np.sum(np.square(y - y_hat))\n",
        "SS_R = np.sum(np.square(y_hat - y.mean()))\n",
        "SS_T = SS_Res + SS_R\n",
        "\n",
        "n = 200\n",
        "k = 4\n",
        "p = k + 1\n",
        "\n",
        "MS_T = SS_T / (n-1)\n",
        "MS_R = SS_R / k\n",
        "MS_Res = SS_Res / (n - p)\n",
        "\n",
        "R_2 = SS_R / SS_T\n",
        "R_2_adj = 1 - (MS_Res / MS_T)\n",
        "\n",
        "F = MS_R / MS_Res\n",
        "\n",
        "\n",
        "# create the table\n",
        "from tabulate import tabulate\n",
        "\n",
        "data = [\n",
        "    [\"Regression\", SS_R, p-1, round(MS_R,3), round(F,3)],\n",
        "    [\"Residual\", SS_Res, n-p, round(MS_Res,3), \"\"],\n",
        "    [\"Total\", SS_T, n-1, \"\", \"\"],\n",
        "]\n",
        "\n",
        "headers = [\"Source of Variation\", \"SS\", \"DF\", \"MS\", \"F\"]\n",
        "\n",
        "print(\"ANOVA TABLE:\\n\")\n",
        "print(tabulate(data, headers=headers, tablefmt=\"grid\"))\n",
        "\n",
        "print(f\"\\nR_2 = {round(R_2,3)}\\nR_2_adj = {round(R_2_adj,3)}\")\n",
        "\n",
        "# calculate f-critical value for the f test\n",
        "from scipy.stats import f\n",
        "\n",
        "alpha = 0.05\n",
        "\n",
        "f_critical = f.ppf(1 - alpha, k, n-p)\n",
        "print(\"\\nF-test:\\n\")\n",
        "print(f\"The {1-alpha}% quantile of the F-distribution is: {round(f_critical,3)}\")\n",
        "\n",
        "print(f\"Conclusion: we {'DO reject' if F > f_critical else 'DONT reject'} the null hypothesis (which states that beta_j = 0 for all j)\")\n"
      ],
      "metadata": {
        "colab": {
          "base_uri": "https://localhost:8080/"
        },
        "id": "ABUXOd2ORixB",
        "outputId": "c173cec3-2272-4e6a-bda3-1731db7389bf"
      },
      "execution_count": 9,
      "outputs": [
        {
          "output_type": "stream",
          "name": "stdout",
          "text": [
            "ANOVA TABLE:\n",
            "\n",
            "+-----------------------+----------+------+-----------+--------+\n",
            "| Source of Variation   |       SS |   DF | MS        | F      |\n",
            "+=======================+==========+======+===========+========+\n",
            "| Regression            |  77176.1 |    4 | 19294.037 | 58.553 |\n",
            "+-----------------------+----------+------+-----------+--------+\n",
            "| Residual              |  64255.3 |  195 | 329.514   |        |\n",
            "+-----------------------+----------+------+-----------+--------+\n",
            "| Total                 | 141431   |  199 |           |        |\n",
            "+-----------------------+----------+------+-----------+--------+\n",
            "\n",
            "R_2 = 0.546\n",
            "R_2_adj = 0.536\n",
            "\n",
            "F-test:\n",
            "\n",
            "The 0.95% quantile of the F-distribution is: 2.418\n",
            "Conclusion: we DO reject the null hypothesis (which states that beta_j = 0 for all j)\n"
          ]
        }
      ]
    },
    {
      "cell_type": "markdown",
      "source": [
        "### 6. CI for $\\beta^*_i$\n",
        "\n",
        "We saw in class that an aproximated $1-\\alpha$ CI for $\\beta^*_j$ is:\n",
        "\\begin{equation}\n",
        "  [\\hat{\\beta}_j \\pm z_{1-\\frac{\\alpha}{2}} \\hat{se}(\\hat{\\beta}_j)]\n",
        "\\end{equation}\n",
        "where:\n",
        "\\begin{equation}\n",
        "  \\hat{se}(\\hat{\\beta}_j) = \\sqrt{\\hat{\\sigma}_\\epsilon^2C_{jj}}\n",
        "\\end{equation}\n",
        "for\n",
        "\\begin{equation}\n",
        "  C = (X^TX)^{-1}\n",
        "\\end{equation}\n",
        "and\n",
        "\\begin{equation}\n",
        "  \\hat{\\sigma}_\\epsilon^2 = \\frac{1}{n-p}\\sum_{i=1}^n{(y-\\hat{y})^2}\n",
        "\\end{equation}"
      ],
      "metadata": {
        "id": "aRwVAJfXhJ9c"
      }
    },
    {
      "cell_type": "code",
      "source": [
        "from scipy import stats\n",
        "\n",
        "alpha = 0.05\n",
        "C = np.linalg.inv(X.T @ X)\n",
        "sigma_epsilon_hat = np.sum((y - y_hat) ** 2) / (X.shape[0] - X.shape[1])\n",
        "standard_errors = np.sqrt(np.diag(C * sigma_epsilon_hat))\n",
        "\n",
        "z = stats.norm.ppf(1- alpha/2)\n",
        "\n",
        "# Calculate the confidence intervals for the coefficients\n",
        "confidence_intervals = np.column_stack((\n",
        "    beta_hat - z * standard_errors,\n",
        "    beta_hat + z * standard_errors\n",
        "))\n",
        "\n",
        "print(\"Confidence Intervals:\")\n",
        "for i, interval in enumerate(confidence_intervals):\n",
        "    print(f\"beta_{i}: CI: {interval}\")"
      ],
      "metadata": {
        "colab": {
          "base_uri": "https://localhost:8080/"
        },
        "id": "6CKP0sdu8hhf",
        "outputId": "c0af5df7-708e-4a46-a276-967e598db163"
      },
      "execution_count": 10,
      "outputs": [
        {
          "output_type": "stream",
          "name": "stdout",
          "text": [
            "Confidence Intervals:\n",
            "beta_0: CI: [106.07178966 125.57913507]\n",
            "beta_1: CI: [-37.87385265 -28.25013174]\n",
            "beta_2: CI: [1.18114039 5.72698409]\n",
            "beta_3: CI: [-10.10894511   1.61435129]\n",
            "beta_4: CI: [-0.06252831 -0.02824561]\n"
          ]
        }
      ]
    },
    {
      "cell_type": "markdown",
      "source": [
        "#### $\\hat{\\beta}$ of the entire population"
      ],
      "metadata": {
        "id": "AekTq3uIHQDT"
      }
    },
    {
      "cell_type": "code",
      "source": [
        "population = df[vars]\n",
        "X_pop = population.iloc[:, :-1]\n",
        "y_pop = population.iloc[:, -1]\n",
        "\n",
        "# add column of 1's to X at position 0\n",
        "X_pop.insert(0, \"x_0\", [1] * population.shape[0])\n",
        "\n",
        "beta_hat_pop = np.linalg.inv(X_pop.T @ X_pop) @ X_pop.T @ y_pop\n",
        "\n",
        "print(\"The estimator for beta of the entire population is:\")\n",
        "for i, (beta_i, feature) in enumerate(zip(beta_hat_pop, X_pop.columns)):\n",
        "  print(f\"beta_{i} = {round(beta_i, 3)} ({feature})\")\n",
        "\n",
        "\n",
        "# check if is in CI of the sample\n",
        "print(\"\\nIs in sample CI:\\n\")\n",
        "for i, (b, ci) in enumerate(zip(beta_hat_pop, confidence_intervals)):\n",
        "  is_in = \"IS\" if (b >= ci[0] and b <= ci[1]) else \"IS NOT\"\n",
        "  # print(f\"beta_{i} {is if}\")\n",
        "  print(f\"beta_{i} {is_in} in CI of the sample which was: {ci}\")"
      ],
      "metadata": {
        "colab": {
          "base_uri": "https://localhost:8080/"
        },
        "id": "UVsNOzsyHY_p",
        "outputId": "c5fa739f-6578-4b67-e6e5-ae0f3c28214b"
      },
      "execution_count": 11,
      "outputs": [
        {
          "output_type": "stream",
          "name": "stdout",
          "text": [
            "The estimator for beta of the entire population is:\n",
            "beta_0 = 117.68 (x_0)\n",
            "beta_1 = -30.69 (total_guests)\n",
            "beta_2 = 0.952 (number_of_nights)\n",
            "beta_3 = -0.416 (weekend_included)\n",
            "beta_4 = -0.047 (lead_time)\n",
            "\n",
            "Is in sample CI:\n",
            "\n",
            "beta_0 IS in CI of the sample which was: [106.07178966 125.57913507]\n",
            "beta_1 IS in CI of the sample which was: [-37.87385265 -28.25013174]\n",
            "beta_2 IS NOT in CI of the sample which was: [1.18114039 5.72698409]\n",
            "beta_3 IS in CI of the sample which was: [-10.10894511   1.61435129]\n",
            "beta_4 IS in CI of the sample which was: [-0.06252831 -0.02824561]\n"
          ]
        }
      ]
    },
    {
      "cell_type": "markdown",
      "source": [
        "### 7. Test if each of $\\beta^*_j$ is non-zero\n",
        "\n",
        "Under the assumptions of a linear model, i.e.:\n",
        "\\begin{equation}\n",
        "  \\text{(1) Linearity: } \\mathbb{E}[y|X] = \\beta^*X \\\\\n",
        "  \\text{(2) }\\epsilon_i \\text{ are i.i.d with } \\mathbb{E}[\\epsilon_i] = 0 \\text{ and } Var[\\epsilon_i] = \\sigma^2_{\\epsilon_i} \\\\\n",
        "\\end{equation}\n",
        "\n",
        "we saw in class that under the assumption that $X^TX$ is invertible our OLS estimator for $\\beta^*$, $\\hat{\\beta} = (X^TX)^{-1}X^Ty$ is assymptotically normal:\n",
        "\\begin{equation}\n",
        "  \\hat{\\beta} \\approx N(\\beta^*, \\sigma_\\epsilon^2C)\n",
        "\\end{equation}\n",
        "for $C = (X^TX)^{-1}$\n",
        "\n",
        "Under these assumption we can use the Wald Test which is:\n",
        "\\begin{equation}\n",
        "  H_0: \\hat{\\beta_j} = 0\\\\\n",
        "  H_1:\\hat{\\beta_j} \\neq 0\\\\\n",
        "  T.S.: W = \\frac{\\hat{\\beta_j}}{\\sqrt{\\hat{\\sigma}_\\epsilon^2C_{jj}}} \\\\\n",
        "  R.R.: |W| > z_{1-\\frac{\\alpha}{2}}\n",
        "\\end{equation}"
      ],
      "metadata": {
        "id": "Gfpsq251W9Em"
      }
    },
    {
      "cell_type": "code",
      "source": [
        "alpha = 0.05\n",
        "C = np.linalg.inv(X.T @ X)\n",
        "sigma_epsilon_hat = np.sum((y - y_hat) ** 2) / (X.shape[0] - X.shape[1])\n",
        "standard_errors = np.sqrt(np.diag(np.linalg.inv(X.T @ X) * sigma_epsilon_hat))\n",
        "\n",
        "z = stats.norm.ppf(1- alpha/2)\n",
        "\n",
        "W = beta_hat / standard_errors\n",
        "\n",
        "print(f\"Z = {round(z,3)}\")\n",
        "for i, w in enumerate(W):\n",
        "  is_reject = np.abs(w) > z\n",
        "  print(f\"W_{i} = {round(w,3)}. The null hypothesis {'is' if is_reject else 'is NOT'} rejected for beta_{i}\")\n",
        "# W, np.abs(W) > z"
      ],
      "metadata": {
        "colab": {
          "base_uri": "https://localhost:8080/"
        },
        "id": "NfQhAHeKZc2S",
        "outputId": "b03ec43e-af44-4303-a17a-9ecf5ac903ae"
      },
      "execution_count": 12,
      "outputs": [
        {
          "output_type": "stream",
          "name": "stdout",
          "text": [
            "Z = 1.96\n",
            "W_0 = 23.275. The null hypothesis is rejected for beta_0\n",
            "W_1 = -13.467. The null hypothesis is rejected for beta_1\n",
            "W_2 = 2.978. The null hypothesis is rejected for beta_2\n",
            "W_3 = -1.42. The null hypothesis is NOT rejected for beta_3\n",
            "W_4 = -5.19. The null hypothesis is rejected for beta_4\n"
          ]
        }
      ]
    },
    {
      "cell_type": "markdown",
      "source": [
        "### 8. Residual Analysis and QQ-Plot"
      ],
      "metadata": {
        "id": "EGtB8LOYtyvS"
      }
    },
    {
      "cell_type": "code",
      "source": [
        "fig, ax = plt.subplots(1,2, figsize=(8,4))\n",
        "\n",
        "residuals = y_hat - y\n",
        "ax[0].scatter(y_hat,residuals)\n",
        "ax[0].axhline(y = 0, color = 'b', linestyle = '-')\n",
        "ax[0].set_yticks(np.arange(-80, 40, 10))\n",
        "ax[0].set_ylabel(\"Residual (e)\")\n",
        "ax[0].set_xlabel(\"Y predicted\")\n",
        "ax[0].set_title(\"Residual Graph\")\n",
        "\n",
        "# residuals QQ-plot\n",
        "stats.probplot(residuals, dist=\"norm\", plot=ax[1])\n",
        "ax[1].set_title('QQ Plot of Residuals')\n",
        "\n",
        "plt.tight_layout()\n",
        "plt.show()"
      ],
      "metadata": {
        "colab": {
          "base_uri": "https://localhost:8080/",
          "height": 407
        },
        "id": "D-LUDKY-uIOq",
        "outputId": "26fc07bf-cd69-401d-bde0-f32fad529a28"
      },
      "execution_count": 13,
      "outputs": [
        {
          "output_type": "display_data",
          "data": {
            "text/plain": [
              "<Figure size 800x400 with 2 Axes>"
            ],
            "image/png": "[encoded data removed]"
          },
          "metadata": {}
        }
      ]
    },
    {
      "cell_type": "markdown",
      "source": [
        "#### Notes:\n",
        "Residual Analysis:\n",
        "- The linearity assumption seems reasonable: except for two outliers in the bottom left, the points appear to be randomly distributed around the zero line.\n",
        "- The assumption of constant variance (homoscedasticity) also seems reasonable because (apart from those two outliers)the scatter of the residuals around the zero line is relatively constant, indicating consistent variability across the range of the independent variable.\n",
        "\n",
        "QQ-plot:\n",
        "- The normality assumption of the noise appears to be questionable, as the residuals do not conform very well to the normal distribution."
      ],
      "metadata": {
        "id": "VrRS18Hb0KjL"
      }
    },
    {
      "cell_type": "markdown",
      "source": [
        "### 9.Prediction"
      ],
      "metadata": {
        "id": "ahsorpRRW54a"
      }
    },
    {
      "cell_type": "markdown",
      "source": [
        "Sample 1000 new rows and get predictions"
      ],
      "metadata": {
        "id": "JG771oOWY9Pg"
      }
    },
    {
      "cell_type": "code",
      "source": [
        "# Merge df of population with sample_df on common columns to find rows not in sample_df\n",
        "new_sample_df = df[vars].merge(sample_df, indicator=True, how='outer').query('_merge == \"left_only\"').drop('_merge', axis=1)\n",
        "\n",
        "# sample new rows from rows not in the first sample we used\n",
        "n_new = 1000\n",
        "new_sample_df = new_sample_df.sample(n_new, random_state=27).reset_index(drop=True)\n",
        "\n",
        "# verify that new sample doesn't contain rows from first sample\n",
        "is_in = sample_df.merge(new_sample_df, indicator=True, how='outer')\n",
        "assert is_in['_merge'].value_counts()['both'] == 0\n",
        "\n",
        "\n",
        "X_new = new_sample_df.iloc[:, :-1]\n",
        "y_new = new_sample_df.iloc[:, -1]\n",
        "\n",
        "# add column of 1's to X_new at position 0\n",
        "X_new.insert(0, \"x_0\", [1] * new_sample_df.shape[0])\n",
        "\n",
        "# predict\n",
        "y_new_hat = (X_new @ beta_hat.values.reshape(-1,1)).values.reshape(-1)"
      ],
      "metadata": {
        "id": "yTRNfB7eXAof"
      },
      "execution_count": 14,
      "outputs": []
    },
    {
      "cell_type": "markdown",
      "source": [
        "#### Calculate CI for the prediction (and its expectation)\n",
        "\n",
        "Like we saw in class, the CI for the prediction is:\n",
        "\\begin{equation}\n",
        "  [\\hat{Y}_{new} \\pm z_{1-\\frac{\\alpha}{2}} \\sqrt{\\sigma^2_{\\epsilon}(X_{new}^T C X_{new} + 1)}]\n",
        "\\end{equation}"
      ],
      "metadata": {
        "id": "oTfl4_H88m6q"
      }
    },
    {
      "cell_type": "code",
      "source": [
        "standard_errors_new = np.sqrt(sigma_epsilon_hat * (np.diag(X_new.values @ C @ X_new.values.T) + 1))\n",
        "\n",
        "alpha = 0.05\n",
        "z = stats.norm.ppf(1- alpha/2)\n",
        "\n",
        "# Calculate the confidence intervals for the predictions\n",
        "confidence_intervals_new = np.column_stack((\n",
        "    y_new_hat - z * standard_errors_new,\n",
        "    y_new_hat + z * standard_errors_new\n",
        "))\n",
        "\n",
        "# ceheck how many CI contain true y\n",
        "ci_contain_true = np.zeros(y_new.shape[0])\n",
        "for i, ci in enumerate(confidence_intervals_new):\n",
        "  ci_contain_true[i] = (y_new[i] >= ci[0] and y_new[i] <= ci[1])\n",
        "\n",
        "print(f\"Percentage of confidence intervals which contain the true value is: {ci_contain_true.mean() * 100}%\")"
      ],
      "metadata": {
        "colab": {
          "base_uri": "https://localhost:8080/"
        },
        "id": "qiJbYrbQsmx6",
        "outputId": "aeb3530a-a1b7-43bc-d11f-81ab8b3e7514"
      },
      "execution_count": 15,
      "outputs": [
        {
          "output_type": "stream",
          "name": "stdout",
          "text": [
            "Percentage of confidence intervals which contain the true value is: 91.3%\n"
          ]
        }
      ]
    },
    {
      "cell_type": "markdown",
      "source": [
        "#### Notes:\n",
        "The percentage of confidence intervals that include the true value is nearly 95%. This suggests that our assumptions of linearity and homoscedasticity are likely valid."
      ],
      "metadata": {
        "id": "E1j9pihqDDFA"
      }
    },
    {
      "cell_type": "markdown",
      "source": [
        "### 10. First Order Interactions"
      ],
      "metadata": {
        "id": "4DhHZPvzFYcW"
      }
    },
    {
      "cell_type": "code",
      "source": [
        "# add first order interactions\n",
        "Z = X.copy()\n",
        "Z['Z_12'] = X.iloc[:, 1] * X.iloc[:, 2]\n",
        "Z['Z_13'] = X.iloc[:, 1] * X.iloc[:, 3]\n",
        "Z['Z_14'] = X.iloc[:, 1] * X.iloc[:, 4]\n",
        "Z['Z_23'] = X.iloc[:, 2] * X.iloc[:, 3]\n",
        "Z['Z_24'] = X.iloc[:, 2] * X.iloc[:, 4]\n",
        "Z['Z_34'] = X.iloc[:, 3] * X.iloc[:, 4]\n",
        "\n",
        "beta_hat_z = np.linalg.inv(Z.T @ Z) @ Z.T @ y\n",
        "\n",
        "print(\"The estimator for THIS beta is:\")\n",
        "for i, (beta_i, feature) in enumerate(zip(beta_hat_z, Z.columns)):\n",
        "  print(f\"beta_{i} = {round(beta_i, 3)} ({feature})\")"
      ],
      "metadata": {
        "colab": {
          "base_uri": "https://localhost:8080/"
        },
        "id": "E7_Cpvo12kF-",
        "outputId": "71963d1a-d9ae-47df-a3de-f0c51b693676"
      },
      "execution_count": 16,
      "outputs": [
        {
          "output_type": "stream",
          "name": "stdout",
          "text": [
            "The estimator for THIS beta is:\n",
            "beta_0 = 99.981 (x_0)\n",
            "beta_1 = -21.737 (total_guests)\n",
            "beta_2 = 12.33 (number_of_nights)\n",
            "beta_3 = -21.164 (weekend_included)\n",
            "beta_4 = -0.046 (lead_time)\n",
            "beta_5 = -6.068 (Z_12)\n",
            "beta_6 = 10.577 (Z_13)\n",
            "beta_7 = -0.017 (Z_14)\n",
            "beta_8 = -0.506 (Z_23)\n",
            "beta_9 = 0.014 (Z_24)\n",
            "beta_10 = 0.001 (Z_34)\n"
          ]
        }
      ]
    },
    {
      "cell_type": "markdown",
      "source": [
        "### Which model is better"
      ],
      "metadata": {
        "id": "918G-bUu_9iQ"
      }
    },
    {
      "cell_type": "markdown",
      "source": [
        "#### Likelihood Ratio Test\n",
        "Under the assumption that $Y_i - \\hat{Y_i} = e_i \\sim N(0,\\sigma^2_\\epsilon)$ we get that the log-likelihood function is\n",
        "\\begin{equation}\n",
        "  l(\\beta) = -\\frac{n}{2}(\\log{(2\\pi\\sigma^2_\\epsilon)} - \\frac{1}{2\\pi\\sigma^2_\\epsilon}\\sum_{i=1}^n (y_i-\\hat{y_i})^2\n",
        "\\end{equation}\n",
        "\n",
        "Where both $\\hat{y}, \\sigma^2_\\epsilon$ depend on the estimator $\\hat{\\beta}$.\n",
        "\n",
        "The test is:\n",
        "\\begin{equation}\n",
        "  H_o: \\hat\\beta = (X^TX)^{-1}X^Ty \\text{ (i.e. the simple model)} \\\\\n",
        "  H_1: \\hat\\beta = (Z^TZ)^{-1}Z^Ty \\text{ (i.e. the larger model)} \\\\\n",
        "  T.S: \\ \\lambda = 2 (l(\\hat\\beta_{large}) - l(\\hat\\beta_{simple})) \\\\\n",
        "  R.R.: \\lambda > \\chi^2_{(6),1-\\alpha}\n",
        "\\end{equation}\n",
        "\n",
        "The degree of freedom is 6 as the number of coefficients added to the larger model compared to the simple model.\n",
        "\n"
      ],
      "metadata": {
        "id": "1VC81CnzgpV3"
      }
    },
    {
      "cell_type": "code",
      "source": [
        "y_hat_large = (Z @ beta_hat_z.values.reshape(-1,1)).values.reshape(-1)\n",
        "sigma_epsilon_simple_hat = sigma_epsilon_hat # computed earlier\n",
        "sigma_epsilon_large_hat = np.sum((y - y_hat_large) ** 2) / (Z.shape[0] - Z.shape[1])\n",
        "\n",
        "def log_likelihood_beta(sigma_hat, y_hat_):\n",
        "  n = y_hat_.shape[0]\n",
        "  a = 2 * np.pi * sigma_hat\n",
        "  return (-y_hat.shape[0] / 2 * np.log(a) - 1 / (a) * np.sum((y - y_hat_) ** 2))\n",
        "\n",
        "lmbda = 2 * (log_likelihood_beta(sigma_epsilon_large_hat, y_hat_large) - log_likelihood_beta(sigma_epsilon_simple_hat, y_hat))\n",
        "\n",
        "alpha = 0.05\n",
        "critical_chi = stats.chi2.ppf(1-alpha, 6)\n",
        "\n",
        "print(f\"Lambda = {round(lmbda,3)}, critical chi value is {round(critical_chi,3)}\")\n",
        "print(f\"We {'reject' if lmbda > critical_chi else 'DO NOT reject'} the null hypothesis\")"
      ],
      "metadata": {
        "colab": {
          "base_uri": "https://localhost:8080/"
        },
        "id": "nMzsvXjo4jGw",
        "outputId": "e850524b-ea8e-497d-eeee-6a347ee4e650"
      },
      "execution_count": 17,
      "outputs": [
        {
          "output_type": "stream",
          "name": "stdout",
          "text": [
            "Lambda = 5.638, critical chi value is 12.592\n",
            "We DO NOT reject the null hypothesis\n"
          ]
        }
      ]
    },
    {
      "cell_type": "markdown",
      "source": [
        "This implies that a larger model may not necessarily be superior; in other words, the inclusion of six additional features does not appear to have a significant impact."
      ],
      "metadata": {
        "id": "dKlRqQB4AJpn"
      }
    },
    {
      "cell_type": "markdown",
      "source": [
        "#### AIC and BIC scores\n",
        "We can compute these scores for both of the models based on the log-likelihood we computed above.\n",
        "\n",
        "For both of the scores - the higher the better."
      ],
      "metadata": {
        "id": "Jac3-JfE_6l1"
      }
    },
    {
      "cell_type": "code",
      "source": [
        "# AIC\n",
        "aic_simple = log_likelihood_beta(sigma_epsilon_simple_hat, y_hat) - X.shape[1]\n",
        "aic_large = log_likelihood_beta(sigma_epsilon_large_hat, y_hat_large) - Z.shape[1]\n",
        "print(\"AIC score\")\n",
        "print(f\"simple model: {round(aic_simple,3)}, larger model: {round(aic_large,3)}\")\n",
        "\n",
        "bic_simple = log_likelihood_beta(sigma_epsilon_simple_hat, y_hat) - X.shape[1] / 2 * np.log(X.shape[0])\n",
        "bic_large = log_likelihood_beta(sigma_epsilon_large_hat, y_hat_large) - Z.shape[1] / 2 * np.log(Z.shape[0])\n",
        "print(\"BIC score\")\n",
        "print(f\"simple model: {round(bic_simple,3)}, larger model: {round(bic_large,3)}\")"
      ],
      "metadata": {
        "colab": {
          "base_uri": "https://localhost:8080/"
        },
        "id": "pRP-EVEA5GUx",
        "outputId": "2d6fa88c-d254-4325-846b-14dab70b838a"
      },
      "execution_count": 18,
      "outputs": [
        {
          "output_type": "stream",
          "name": "stdout",
          "text": [
            "AIC score\n",
            "simple model: -799.585, larger model: -802.766\n",
            "BIC score\n",
            "simple model: -807.831, larger model: -820.907\n"
          ]
        }
      ]
    },
    {
      "cell_type": "markdown",
      "source": [
        "Again, we observe that the simple model outperforms the larger one according to these two scoring methods.\n",
        "\n",
        "**Conclusion:** the simple model is better."
      ],
      "metadata": {
        "id": "tSTBkPZsC03p"
      }
    },
    {
      "cell_type": "markdown",
      "source": [
        "## Part 2 - Logistic Regression"
      ],
      "metadata": {
        "id": "gjYhw1qNLNTG"
      }
    },
    {
      "cell_type": "markdown",
      "source": [
        "# A reminder of our Data\n",
        "The dataset [(link to kaggle page)](https://www.kaggle.com/datasets/khairullahhamsafar/hotels-booking-data-cleaned-version) comprises recorded observations of booking information for two hotels.\n",
        "\n",
        "We removed columns deemed less relevant, introduced new ones for exploration, and refined the dataset by sampling records from the country ('PRT') and the hotel ('City Hotel') with the highest booking numbers.\n",
        "\n",
        "#### The new columns we created\n",
        "1. Sum all guests - adults, children, babies - to one column\n",
        "2. Sum all stayed nights (weekdays + weekends nights)\n",
        "3. Generate a binary indicator that equals 1 if the reservation includes weekend nights (Saturday or Sunday).\n",
        "4. Generate a numeric variable that represents the day of arrival within the range of recorded dates. Set the first recorded day of arrival to 0, and, for instance, a reservation recorded a week later would have the value 7 on that column.\n",
        "5. Generate 'arrival day of the week' categorical column.\n",
        "6. Calculate averge cost per guest in reservation\n",
        "\n",
        "The resulting dataset consists of **20,000** rows with **no missing values**, and includes the following **13 columns**:\n",
        "\n",
        "| column |type | description |\n",
        "|-------|-------|----\n",
        "|is_canceled | binary | was the reservation cancelled|\n",
        "|lead_time |int |number of days between booking date and arrival date|\n",
        "|arrival_date_year | int | year of arrival|\n",
        "|arrival_date_month | category | month of arrival|\n",
        "|arrival_day_of_week | category | day of arrival (Sun, Mon, etc.)|\n",
        "|arrival_day | int | number of days between date of arrival to first recorded date of arrival |\n",
        "|number_of_nights| int| number of nights stayed|\n",
        "|weekend_included| binary| 1 if reservation include Sat or Sun night|\n",
        "|is_repeated_guest | binary | 1 if guest stayed in the hotel before|\n",
        "|deposit_type | category | type of deposit made by the guest\n",
        "|adr |float | Average Daily Rate, i.e., the average rental income per paid occupied room.\n",
        "|total_guests | int | number of guests (adults and childern)|\n",
        "|adr_per_guest | float | adr / total_guests"
      ],
      "metadata": {
        "id": "tvsvzgRwcb7F"
      }
    },
    {
      "cell_type": "markdown",
      "source": [
        "**QUESTION 1**\n",
        "\n",
        "### Chosen Variables\n",
        "The dependent variable will be **'is_canceled'**, which is a binary value : 1 if the booking has been cancelled and 0 otherwise.\n",
        "\n",
        "The explanatory variables will be:\n",
        "1. **'adr_per_guest'**\n",
        "2. **'total_guests'**\n",
        "3. **'lead_time'**\n",
        "\n",
        "### Research Question\n",
        "Our question is : how do the average daily rate per guest (*adr_per_guest*), number of guests (*total_guests*) and number of days between booking date and arrival date (*lead_time*) affect the booking cancellation (*is_canceled*)."
      ],
      "metadata": {
        "id": "fFpTDtNxchD_"
      }
    },
    {
      "cell_type": "markdown",
      "source": [
        "**QUESTION 2**"
      ],
      "metadata": {
        "id": "Fz0TZnBFc025"
      }
    },
    {
      "cell_type": "code",
      "source": [
        "vars = ['adr_per_guest', 'total_guests', 'lead_time', 'is_canceled']\n",
        "k = 200\n",
        "df_sample = df[vars].sample(k, random_state=20).reset_index(drop=True)"
      ],
      "metadata": {
        "id": "Y5mIZD1LLQfP"
      },
      "execution_count": 3,
      "outputs": []
    },
    {
      "cell_type": "markdown",
      "source": [
        "**QUESTION 3**"
      ],
      "metadata": {
        "id": "IiTsySLVc1QU"
      }
    },
    {
      "cell_type": "code",
      "source": [
        "fig, ax = plt.subplots(1, 4, figsize=(12,3))\n",
        "\n",
        "# adr_per_guest\n",
        "sns.histplot(data=df_sample, x=\"adr_per_guest\", bins=15, kde=True, ax=ax[0])\n",
        "ax[0].set_ylabel(\"Counts\", fontsize=10)\n",
        "ax[0].set_title('adr_per_guest', fontsize=11)\n",
        "\n",
        "# total guests\n",
        "sns.countplot(ax=ax[1], x=\"total_guests\", data=df_sample, stat='percent')\n",
        "ax[1].set_title('total_guests', fontsize=11)\n",
        "ax[1].set_ylabel('% of observations',fontsize=10)\n",
        "\n",
        "# lead_time\n",
        "sns.histplot(data=df_sample, x=\"lead_time\", bins=15, kde=True, ax=ax[2])\n",
        "ax[2].set_ylabel(\"Counts\", fontsize=10)\n",
        "ax[2].set_title('lead_time', fontsize=11)\n",
        "\n",
        "# is_canceled\n",
        "sns.countplot(ax=ax[3], x=df_sample['is_canceled'], stat='percent')\n",
        "ax[3].set_xticks([0,1])\n",
        "ax[3].set_xticklabels(['0 = no', '1 = yes'])\n",
        "ax[3].set_title('is_canceled', fontsize=11)\n",
        "ax[3].set_xlabel('is_canceled')\n",
        "ax[3].set_ylabel(\"% of observations\", fontsize=10)\n",
        "\n",
        "\n",
        "fig.suptitle('Distribution of the Variables')\n",
        "plt.tight_layout()\n",
        "plt.show()\n",
        "\n"
      ],
      "metadata": {
        "colab": {
          "base_uri": "https://localhost:8080/",
          "height": 290
        },
        "id": "vs98K_C2g5Ot",
        "outputId": "830b04c7-c8aa-419b-8abd-136c30676811"
      },
      "execution_count": 4,
      "outputs": [
        {
          "output_type": "display_data",
          "data": {
            "text/plain": [
              "<Figure size 1200x300 with 4 Axes>"
            ],
            "image/png": "[encoded data removed]"
          },
          "metadata": {}
        }
      ]
    },
    {
      "cell_type": "markdown",
      "source": [
        "#### Notes:\n",
        "- There are no missing values.\n",
        "\n",
        "- 'adr_per_guest' exhibits characteristics similar to a chi-squared distribution.\n",
        "- The distribution across the 'total_guests' is unbalanced.\n",
        "- The distribution of 'lead_time' appears to resemble that of an exponential distribution.\n",
        "- The distribution of the sample across the 'is_canceled' variable seems fairly even if we can notice that there is lightly more canceled bookings."
      ],
      "metadata": {
        "id": "IjMTV6vEikmJ"
      }
    },
    {
      "cell_type": "code",
      "source": [
        "def box_plot(y_col, df):\n",
        "  plt.boxplot([df[df[\"is_canceled\"] == 1][y_col], df[df[\"is_canceled\"] == 0][y_col]], showmeans=True, labels = [\"1 = Yes\", \" 0 = No\"])\n",
        "  plt.title(f\"{y_col} and booking cancellation\",size=15, fontweight=\"bold\")\n",
        "  plt.xlabel(\"is_canceled\")\n",
        "  plt.ylabel(y_col)\n",
        "  plt.plot()\n",
        "  plt.show()\n",
        "\n",
        "for y_col in vars :\n",
        "  if(y_col != 'is_canceled' and y_col != 'total_guests'):\n",
        "    box_plot(y_col, df_sample)\n",
        "\n",
        "cancel_percentage = df_sample.groupby('total_guests')['is_canceled'].mean() * 100\n",
        "\n",
        "plt.figure(figsize=(6, 4))\n",
        "plt.bar(cancel_percentage.index, cancel_percentage.values, color='green')\n",
        "plt.xlabel('Total Guests')\n",
        "plt.ylabel('Cancellation Percentage (%)')\n",
        "plt.title('Cancellation Percentage by Total Guests', size=15, fontweight=\"bold\")\n",
        "plt.xticks(cancel_percentage.index)\n",
        "plt.ylim(0, 100)\n",
        "plt.grid(axis='y', linestyle='--', alpha=0.7)\n",
        "plt.show()"
      ],
      "metadata": {
        "colab": {
          "base_uri": "https://localhost:8080/",
          "height": 1000
        },
        "id": "_LDprs_fkPbr",
        "outputId": "e1cdc906-ddac-40b3-bb99-9be66c4db071"
      },
      "execution_count": 5,
      "outputs": [
        {
          "output_type": "display_data",
          "data": {
            "text/plain": [
              "<Figure size 640x480 with 1 Axes>"
            ],
            "image/png": "[encoded data removed]"
          },
          "metadata": {}
        },
        {
          "output_type": "display_data",
          "data": {
            "text/plain": [
              "<Figure size 640x480 with 1 Axes>"
            ],
            "image/png": "[encoded data removed]"
          },
          "metadata": {}
        },
        {
          "output_type": "display_data",
          "data": {
            "text/plain": [
              "<Figure size 600x400 with 1 Axes>"
            ],
            "image/png": "[encoded data removed]"
          },
          "metadata": {}
        }
      ]
    },
    {
      "cell_type": "markdown",
      "source": [
        "#### Notes:\n",
        "- It seems that all explanatory variables affect the value of is_canceled.\n",
        "\n",
        "- We can notice that the higher the adr_per_guest value is, we have less cancellations.\n",
        "- It seems that the higher the lead_time is, the less the booking is subject to be cancelled. This is the explanatory variable with the largest effect on the Y value (is_canceled).\n",
        "- The total_guests variable seems also to have an effect on the is_canceled variable. The more the number of guests for one booking, the more it is subject to cancellation. Moreover, we have to be careful of this consideration because of the lack of balance of this variable as we have seen before."
      ],
      "metadata": {
        "id": "qw90BsmXlf1V"
      }
    },
    {
      "cell_type": "markdown",
      "source": [
        "**QUESTION 4**"
      ],
      "metadata": {
        "id": "YJKWmBdlc1nW"
      }
    },
    {
      "cell_type": "code",
      "source": [
        "from sklearn.linear_model import LogisticRegression\n",
        "\n",
        "X = df_sample[['adr_per_guest','total_guests','lead_time']].to_numpy()\n",
        "y = df_sample['is_canceled'].to_numpy()\n",
        "X = np.c_[np.ones(X.shape[0]), X]\n",
        "model = LogisticRegression(penalty=None, fit_intercept=False).fit(X,y)\n",
        "beta_estimators = model.coef_[0]\n",
        "print(f\"The coefficients are: {beta_estimators}\")\n",
        "print()\n",
        "\n",
        "for i in range(1,len(beta_estimators)):\n",
        "  print(f\"if X{i} grows by 1 unit than the explained variable grows by : {np.exp(beta_estimators[i])}\")"
      ],
      "metadata": {
        "colab": {
          "base_uri": "https://localhost:8080/"
        },
        "id": "ZzZTWrhntzP4",
        "outputId": "3fdcbb8d-62cc-432f-b985-5fec06397a46"
      },
      "execution_count": 49,
      "outputs": [
        {
          "output_type": "stream",
          "name": "stdout",
          "text": [
            "The coefficients are: [-2.08112491  0.00683577  0.65937943  0.00930877]\n",
            "\n",
            "if X1 grows by 1 unit than the explained variable grows by : 1.0068591909630569\n",
            "if X2 grows by 1 unit than the explained variable grows by : 1.9335920417404295\n",
            "if X3 grows by 1 unit than the explained variable grows by : 1.0093522308578986\n"
          ]
        }
      ]
    },
    {
      "cell_type": "markdown",
      "source": [
        "**QUESTION 5**"
      ],
      "metadata": {
        "id": "fYMvu6QUc3wb"
      }
    },
    {
      "cell_type": "code",
      "source": [
        "from scipy import stats\n",
        "\n",
        "def pi(i):\n",
        "  beta_T_X_i = np.matmul(beta_estimators.T, X[i])\n",
        "\n",
        "  return np.exp(beta_T_X_i)/(1 + np.exp(beta_T_X_i))\n",
        "\n",
        "X_all = df[['adr_per_guest','total_guests','lead_time']].to_numpy()\n",
        "y_all = df['is_canceled'].to_numpy()\n",
        "X_all = np.c_[np.ones(X_all.shape[0]), X_all]\n",
        "\n",
        "model_all = LogisticRegression(penalty=None, fit_intercept=False).fit(X_all, y_all)\n",
        "beta_estimator_all = model_all.coef_[0]\n",
        "\n",
        "diagonal = [pi(i)*(1-pi(i)) for i in range(X.shape[0])]\n",
        "V = np.diag(diagonal)\n",
        "C = np.linalg.inv(X.T@V@X)\n",
        "norm_quantile = stats.norm.ppf(0.975)\n",
        "\n",
        "for i, variable in zip(range(beta_estimators.shape[0]), ['Beta0', 'adr_per_guest', 'total_guests', 'lead_time']):\n",
        "  std_estimate = (C[i][i])**(1/2)\n",
        "  CI_beta_i = [beta_estimators[i] - norm_quantile*std_estimate, beta_estimators[i] + norm_quantile*std_estimate]\n",
        "\n",
        "  print(f\"Confidence Interval for Beta{i} is: {CI_beta_i}\")\n",
        "  print(f\"Is the CI of {variable} in the sampled data contains the estimator of the original data ? : {beta_estimator_all[i] >= CI_beta_i[0] and beta_estimator_all[i] <= CI_beta_i[1]}\")\n",
        "  print()"
      ],
      "metadata": {
        "colab": {
          "base_uri": "https://localhost:8080/"
        },
        "id": "BM9JfPHsvPkd",
        "outputId": "b74a3fe5-0e3a-49e4-bb84-be6160e6dafb"
      },
      "execution_count": 30,
      "outputs": [
        {
          "output_type": "stream",
          "name": "stdout",
          "text": [
            "Confidence Interval for Beta0 is: [-4.431154455413555, 0.2689046305816616]\n",
            "Is the CI of Beta0 in the sampled data contains the estimator of the original data ? : True\n",
            "\n",
            "Confidence Interval for Beta1 is: [-0.007903354773379976, 0.021574902241184496]\n",
            "Is the CI of adr_per_guest in the sampled data contains the estimator of the original data ? : True\n",
            "\n",
            "Confidence Interval for Beta2 is: [-0.25539862230249977, 1.574157491552904]\n",
            "Is the CI of total_guests in the sampled data contains the estimator of the original data ? : True\n",
            "\n",
            "Confidence Interval for Beta3 is: [0.005720176578695599, 0.01289736244221426]\n",
            "Is the CI of lead_time in the sampled data contains the estimator of the original data ? : True\n",
            "\n"
          ]
        }
      ]
    },
    {
      "cell_type": "markdown",
      "source": [
        "**QUESTION 6**"
      ],
      "metadata": {
        "id": "QA0Ru_M-c4ny"
      }
    },
    {
      "cell_type": "code",
      "source": [
        "# We now look at interactions between variables\n",
        "x_1 = df_sample['adr_per_guest'].to_numpy()\n",
        "x_2 = df_sample['total_guests'].to_numpy()\n",
        "x_3 = df_sample['lead_time'].to_numpy()\n",
        "y = df_sample['is_canceled'].to_numpy()\n",
        "\n",
        "x_12 = np.multiply(x_1, x_2)\n",
        "x_13 = np.multiply(x_1, x_3)\n",
        "x_23 = np.multiply(x_2, x_3)\n",
        "\n",
        "# Simulated data for explanatory variables (X1, X2, X3) and explained variable (Y)\n",
        "X_200sample = np.array([x_1, x_2, x_3]).T\n",
        "\n",
        "# Add a column of ones to represent the intercept term\n",
        "X_200sample = np.column_stack((np.ones(X_200sample.shape[0]), X_200sample))\n",
        "\n",
        "# Concatenate arrays along the second axis to form the final input matrix\n",
        "X_interacted = np.c_[X_200sample, x_12]\n",
        "X_interacted = np.c_[X_interacted, x_13]\n",
        "X_interacted = np.c_[X_interacted, x_23]\n",
        "\n",
        "y = df_sample['is_canceled'].to_numpy()\n",
        "\n",
        "interacted_Logistic_model = LogisticRegression(penalty=None, fit_intercept=False).fit(X_interacted,y)\n",
        "interacted_beta_est = interacted_Logistic_model.coef_[0]\n",
        "\n",
        "print(f\"The coefficients of the interacted sample are: {interacted_beta_est}\")"
      ],
      "metadata": {
        "colab": {
          "base_uri": "https://localhost:8080/"
        },
        "id": "yt0Dyg9UwvY5",
        "outputId": "f6568552-c64f-46dd-e091-ae5e2fb0302c"
      },
      "execution_count": 31,
      "outputs": [
        {
          "output_type": "stream",
          "name": "stdout",
          "text": [
            "The coefficients of the interacted sample are: [ 2.23420555e-03  1.39761781e-02  5.46097149e-01 -1.97466671e-02\n",
            " -2.44684376e-02  1.77703128e-04  1.06551648e-02]\n"
          ]
        }
      ]
    },
    {
      "cell_type": "code",
      "source": [
        "# Fit both the null (simpler) model and alternative (more complex) model\n",
        "model_null = LogisticRegression(penalty=None, fit_intercept=False)\n",
        "X = X_200sample\n",
        "model_null.fit(X, y)\n",
        "\n",
        "model_alt = LogisticRegression(penalty=None, fit_intercept=False)\n",
        "model_alt.fit(X_interacted, y)\n",
        "\n",
        "# Calculate the predicted probabilities for each model\n",
        "probs_null = model_null.predict_proba(X)[:, 1]\n",
        "probs_alt = model_alt.predict_proba(X_interacted)[:, 1]\n",
        "\n",
        "# Calculate the log-likelihoods for each model\n",
        "log_likelihood_null = np.sum(np.log(probs_null))\n",
        "log_likelihood_alt = np.sum(np.log(probs_alt))\n",
        "\n",
        "# Calculate the likelihood ratio statistic\n",
        "lr_statistic = -2 * (log_likelihood_null - log_likelihood_alt)\n",
        "\n",
        "# Calculate the degrees of freedom as the difference in the number of parameters\n",
        "degree_of_freedom = (X_interacted.shape[1] - X.shape[1])\n",
        "\n",
        "# Set the significance level (alpha)\n",
        "alpha = 0.05\n",
        "\n",
        "# Perform the likelihood ratio test and compare to the critical value\n",
        "critical_value = stats.chi2.ppf(1 - alpha, degree_of_freedom)\n",
        "\n",
        "if lr_statistic > critical_value:\n",
        "    print(\"Reject the null hypothesis\")\n",
        "    print(\"The more complex model is better.\")\n",
        "else:\n",
        "    print(\"Fail to reject the null hypothesis\")\n",
        "    print(\"The simpler model is sufficient.\")"
      ],
      "metadata": {
        "colab": {
          "base_uri": "https://localhost:8080/"
        },
        "id": "Rr-F0u2uxpUg",
        "outputId": "3dc1805b-3f78-41ff-90f5-a7d709a5e6e4"
      },
      "execution_count": 32,
      "outputs": [
        {
          "output_type": "stream",
          "name": "stdout",
          "text": [
            "Fail to reject the null hypothesis\n",
            "The simpler model is sufficient.\n"
          ]
        }
      ]
    },
    {
      "cell_type": "code",
      "source": [
        "# We are now interested by the best model based on BIC criterion\n",
        "\n",
        "n_samples = len(y)\n",
        "\n",
        "# Calculate the number of parameters for each model\n",
        "n_params_null = X.shape[1]\n",
        "n_params_alt = X_interacted.shape[1]\n",
        "\n",
        "# Calculate the BIC for each model\n",
        "bic_null = -2 * log_likelihood_null + n_params_null * np.log(n_samples)\n",
        "bic_alt = -2 * log_likelihood_alt + n_params_alt * np.log(n_samples)\n",
        "\n",
        "if bic_null < bic_alt:\n",
        "    print(\"The simpler model (null) is preferred based on BIC criterion.\")\n",
        "else:\n",
        "    print(\"The more complex model (alternative) is preferred based on BIC criterion.\")"
      ],
      "metadata": {
        "colab": {
          "base_uri": "https://localhost:8080/"
        },
        "id": "8GiLxaVOxu9T",
        "outputId": "d641acba-798d-46b9-c0aa-aca98474f5df"
      },
      "execution_count": 33,
      "outputs": [
        {
          "output_type": "stream",
          "name": "stdout",
          "text": [
            "The simpler model (null) is preferred based on BIC criterion.\n"
          ]
        }
      ]
    },
    {
      "cell_type": "markdown",
      "source": [
        "According to both methods we've performed in order to choose the best model (Likelihood ratio test and BIC score), we agreed on the simpler model : the model without interactions."
      ],
      "metadata": {
        "id": "dDDP4aWXzdH0"
      }
    },
    {
      "cell_type": "markdown",
      "source": [
        "**QUESTION 7 & 8**"
      ],
      "metadata": {
        "id": "Hv90iBxqc57f"
      }
    },
    {
      "cell_type": "markdown",
      "source": [
        "We will look at the AIC (Akaike Information Criterion) score and the BIC (Bayesian Information Criterion) score."
      ],
      "metadata": {
        "id": "o24tVaKS-bNc"
      }
    },
    {
      "cell_type": "code",
      "source": [
        "def compute_AIC_score(X,y,beta_est):\n",
        "  score = 0\n",
        "\n",
        "  for i in range(X.shape[0]):\n",
        "    score += y[i] * beta_est@X[i] - np.log(1 + np.exp(beta_est@X[i]))\n",
        "\n",
        "  return round(score - (beta_est.shape[0]-1),3)\n",
        "\n",
        "def compute_BIC_score (X,y,beta_est):\n",
        "  score = 0\n",
        "\n",
        "  for i in range(X.shape[0]):\n",
        "    score += y[i] * beta_est@X[i] - np.log(1 + math.exp(beta_est@X[i]))\n",
        "\n",
        "  return round(score - (beta_est.shape[0]-1)*math.log(y.shape[0])/2,3)"
      ],
      "metadata": {
        "id": "5e32nzevIgw6"
      },
      "execution_count": 41,
      "outputs": []
    },
    {
      "cell_type": "code",
      "source": [
        "variables = ['adr_per_guest', 'total_guests', 'lead_time', 'arrival_day']\n",
        "all_pairs = [[a, b] for idx, a in enumerate(variables) for b in variables[idx + 1:]]\n",
        "k = 200\n",
        "df_sample_2 = df[variables].sample(k, random_state=20).reset_index(drop=True)\n",
        "new_df = df_sample_2.copy()\n",
        "\n",
        "# Adding first degree interactions to the df\n",
        "for inter in all_pairs:\n",
        "    x_1 = df_sample_2[inter[0]].to_numpy()\n",
        "    x_2 = df_sample_2[inter[1]].to_numpy()\n",
        "    x_1_2 = np.multiply(x_1,x_2)\n",
        "\n",
        "    new_df[f\"{inter[0]} * {inter[1]}\"] = x_1_2\n",
        "\n",
        "y = df_sample['is_canceled'].to_numpy()\n",
        "X_q7_sample = new_df[new_df.columns.tolist()].to_numpy()\n",
        "\n",
        "print(\"The Dataframe with interactions :\")\n",
        "print()\n",
        "print(new_df)\n"
      ],
      "metadata": {
        "colab": {
          "base_uri": "https://localhost:8080/"
        },
        "id": "EXFspqI5-lKs",
        "outputId": "16b81f5a-ea1c-4c95-8168-d267c5111713"
      },
      "execution_count": 42,
      "outputs": [
        {
          "output_type": "stream",
          "name": "stdout",
          "text": [
            "The Dataframe with interactions :\n",
            "\n",
            "     adr_per_guest  total_guests  lead_time  arrival_day  \\\n",
            "0            45.00           2.0        275        462.0   \n",
            "1            50.00           2.0        112        337.0   \n",
            "2            62.50           2.0        251        265.0   \n",
            "3            50.00           2.0        277        495.0   \n",
            "4            44.77           2.0         47        598.0   \n",
            "..             ...           ...        ...          ...   \n",
            "195          31.00           2.0        414        157.0   \n",
            "196          45.00           2.0          5        678.0   \n",
            "197          47.20           2.0         24        590.0   \n",
            "198          98.00           1.0         72         72.0   \n",
            "199          38.25           2.0        135         15.0   \n",
            "\n",
            "     adr_per_guest * total_guests  adr_per_guest * lead_time  \\\n",
            "0                           90.00                   12375.00   \n",
            "1                          100.00                    5600.00   \n",
            "2                          125.00                   15687.50   \n",
            "3                          100.00                   13850.00   \n",
            "4                           89.54                    2104.19   \n",
            "..                            ...                        ...   \n",
            "195                         62.00                   12834.00   \n",
            "196                         90.00                     225.00   \n",
            "197                         94.40                    1132.80   \n",
            "198                         98.00                    7056.00   \n",
            "199                         76.50                    5163.75   \n",
            "\n",
            "     adr_per_guest * arrival_day  total_guests * lead_time  \\\n",
            "0                       20790.00                     550.0   \n",
            "1                       16850.00                     224.0   \n",
            "2                       16562.50                     502.0   \n",
            "3                       24750.00                     554.0   \n",
            "4                       26772.46                      94.0   \n",
            "..                           ...                       ...   \n",
            "195                      4867.00                     828.0   \n",
            "196                     30510.00                      10.0   \n",
            "197                     27848.00                      48.0   \n",
            "198                      7056.00                      72.0   \n",
            "199                       573.75                     270.0   \n",
            "\n",
            "     total_guests * arrival_day  lead_time * arrival_day  \n",
            "0                         924.0                 127050.0  \n",
            "1                         674.0                  37744.0  \n",
            "2                         530.0                  66515.0  \n",
            "3                         990.0                 137115.0  \n",
            "4                        1196.0                  28106.0  \n",
            "..                          ...                      ...  \n",
            "195                       314.0                  64998.0  \n",
            "196                      1356.0                   3390.0  \n",
            "197                      1180.0                  14160.0  \n",
            "198                        72.0                   5184.0  \n",
            "199                        30.0                   2025.0  \n",
            "\n",
            "[200 rows x 10 columns]\n"
          ]
        }
      ]
    },
    {
      "cell_type": "code",
      "source": [
        "import math\n",
        "\n",
        "def select_var_forward(X,y, selected_var, left_variables, scoring_func):\n",
        "  next_var = None\n",
        "  next_score = -math.inf\n",
        "\n",
        "  for var in left_variables:\n",
        "    X_curr = X[selected_var + [var]].to_numpy()\n",
        "    model = LogisticRegression(penalty=None, fit_intercept=False)\n",
        "    model.fit(X_curr, y)\n",
        "    beta_estimators = model.coef_[0]\n",
        "    curr_score = scoring_func(X_curr, y, beta_estimators)\n",
        "\n",
        "    if curr_score > next_score:\n",
        "      next_var = var\n",
        "      next_score = curr_score\n",
        "\n",
        "  if next_var != None:\n",
        "    left_variables.remove(next_var)\n",
        "\n",
        "  return next_score, selected_var + [next_var], left_variables\n",
        "\n",
        "def forward_stepwise(X, y, scoring_func):\n",
        "  variables = set(X.columns)\n",
        "  left_variables = variables.copy()\n",
        "  score, selected_var = -math.inf, []\n",
        "  next_score, selected_var, left_variables = select_var_forward(X, y, selected_var, left_variables, scoring_func)\n",
        "\n",
        "  while score < next_score:\n",
        "    score = next_score\n",
        "    next_score, selected_var, left_variables = select_var_forward(X, y, selected_var, left_variables, scoring_func)\n",
        "\n",
        "  return selected_var, score"
      ],
      "metadata": {
        "id": "GIxdev32GEmk"
      },
      "execution_count": 43,
      "outputs": []
    },
    {
      "cell_type": "code",
      "source": [
        "def select_var_backward(X,y, selected_var, scoring_func):\n",
        "  new_variables = None\n",
        "  next_score = -math.inf\n",
        "\n",
        "  for var in selected_var:\n",
        "    new_variables = selected_var.copy()\n",
        "    new_variables.remove(var)\n",
        "    X_curr = X[new_variables].to_numpy()\n",
        "    model = LogisticRegression(penalty=None, fit_intercept=False, max_iter=1000)\n",
        "    model.fit(X_curr, y)\n",
        "    beta_estimators = model.coef_[0]\n",
        "    curr_score = scoring_func(X_curr, y, beta_estimators)\n",
        "\n",
        "    if curr_score > next_score:\n",
        "      selected_variables = new_variables\n",
        "      next_score = curr_score\n",
        "\n",
        "  return next_score, selected_variables\n",
        "\n",
        "def backward_stepwise(X, y, scoring_func):\n",
        "  variables = set(X.columns)\n",
        "  model = LogisticRegression(penalty=None, fit_intercept=False, max_iter=1000)\n",
        "  model.fit(X,y)\n",
        "  beta_estimators = model.coef_[0]\n",
        "  selected_var = variables.copy()\n",
        "  score = scoring_func(X.to_numpy(), y, beta_estimators)\n",
        "  next_score, selected_var = select_var_backward(X, y, selected_var, scoring_func)\n",
        "\n",
        "  while score < next_score:\n",
        "    score = next_score\n",
        "    next_score, selected_var = select_var_backward(X, y, selected_var, scoring_func)\n",
        "\n",
        "  return selected_var, score"
      ],
      "metadata": {
        "id": "Y_NJRTIMGJu2"
      },
      "execution_count": 44,
      "outputs": []
    },
    {
      "cell_type": "code",
      "source": [
        "selected_variables, score = forward_stepwise(new_df, y, compute_AIC_score)\n",
        "print(f\"Selected variables using forward stepwise : {list(selected_variables)}, AIC score: {score}\")\n",
        "\n",
        "selected_variables, score = backward_stepwise(new_df, y, compute_AIC_score)\n",
        "print(f\"Selected variables using backward stepwise : {list(selected_variables)}, AIC score: {score}\")"
      ],
      "metadata": {
        "id": "vUSP9k_9GNm2"
      },
      "execution_count": null,
      "outputs": []
    },
    {
      "cell_type": "markdown",
      "source": [
        "Selected variables using forward_stepwise: ['total_guests::lead_time', 'adr_per_guest::total_guests', 'adr_per_guest::arrival_day', 'total_guests::arrival_day'], AIC score: -111.774\n",
        "\n",
        "\n",
        "Selected variables using backward_stepwise: ['total_guests::lead_time', 'adr_per_guest::total_guests'], AIC score: -111.774"
      ],
      "metadata": {
        "id": "8g7R9rIBI3UJ"
      }
    },
    {
      "cell_type": "markdown",
      "source": [
        "We reached the same AIC score from both methods (forward and backward)."
      ],
      "metadata": {
        "id": "iowWZxowATrK"
      }
    },
    {
      "cell_type": "code",
      "source": [
        "selected_variables, score = forward_stepwise(new_df, y, compute_BIC_score)\n",
        "print(f\"Selected variables using forward stepwise : {list(selected_variables)}, BIC score: {score}\")\n",
        "\n",
        "selected_variables, score = backward_stepwise(new_df, y, compute_BIC_score)\n",
        "print(f\"Selected variables using backward stepwise : {list(selected_variables)}, BIC score: {score}\")"
      ],
      "metadata": {
        "id": "uFfOppGsJt33"
      },
      "execution_count": null,
      "outputs": []
    },
    {
      "cell_type": "markdown",
      "source": [
        "Selected variables using forward_stepwise: ['total_guests::lead_time', 'adr_per_guest::total_guests'], BIC score: -116.576\n",
        "\n",
        "Selected variables using backward_stepwise: ['total_guests::lead_time', 'adr_per_guest::total_guests'], BIC score: -115.072"
      ],
      "metadata": {
        "id": "1EXrgwAH90fu"
      }
    },
    {
      "cell_type": "markdown",
      "source": [
        "Here we used the BIC Score and we get different models.\n",
        "The method wich led us to the best BIC Score is the backward stepwise.\n",
        "The selected variables we got from the BIC Score measure are submodels of the ones from the AIC Score measure. The BIC Score measure gives a higher penalty on the model's complexity."
      ],
      "metadata": {
        "id": "OXJ0qHQwBJrX"
      }
    }
  ]
}